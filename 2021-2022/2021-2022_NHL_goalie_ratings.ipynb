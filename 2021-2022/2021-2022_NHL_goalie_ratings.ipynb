{
 "cells": [
  {
   "cell_type": "code",
   "execution_count": null,
   "metadata": {},
   "outputs": [],
   "source": [
    "import pandas as pd\n",
    "import numpy as np\n",
    "from scipy.stats import zscore\n",
    "\n",
    "df_ahl_init = pd.read_csv('2021-2022_AHL_all_goalies.csv')\n",
    "df_nhl_init = pd.read_csv('2021-2022_NHLcom_Goalie_Summary.csv')\n",
    "\n",
    "df_2 = pd.read_csv('2021-2022_NHLcom_Goalie_Bio.csv')\n",
    "df_3 = pd.read_csv('2021-2022_MoneyPuck_Goalies.csv')\n",
    "df_4 = pd.read_csv('2021-2022_NHLcom_Goalie_Shootout_Summary.csv')\n",
    "df_5 = pd.read_csv('2021-2022_NHLcom_Goalie_Career.csv')\n",
    "df_6 = pd.read_csv('2021-2022_NS_Goalie_Counts.csv')\n",
    "\n",
    "min_rate_skill = 60\n",
    "max_rate_skill = 99\n",
    "rate_range_skill = max_rate_skill - min_rate_skill"
   ]
  },
  {
   "cell_type": "markdown",
   "metadata": {},
   "source": [
    "# VHL Player Ratings Model"
   ]
  },
  {
   "cell_type": "markdown",
   "metadata": {},
   "source": [
    "### Goalies with more games in NHL than AHL"
   ]
  },
  {
   "cell_type": "code",
   "execution_count": null,
   "metadata": {},
   "outputs": [],
   "source": [
    "df_ahl_init_cl = df_ahl_init.loc[:,['Goalie','GP']]\n",
    "df_nhl_init_cl = df_nhl_init.loc[:,['goalieFullName','gamesPlayed']]\n",
    "df_ahl_init_cl.rename(columns={'Goalie':'goalieFullName', 'GP':'gamesPlayed'},inplace=True)\n",
    "\n",
    "df_ahl_init_cl['League'] = 'AHL'\n",
    "df_nhl_init_cl['League'] = 'NHL'\n",
    "\n",
    "df_names = pd.concat([df_nhl_init_cl,df_ahl_init_cl]).reset_index(drop=True)\n",
    "df_names['goalieFullName'] = df_names['goalieFullName'].str.lower()\n",
    "\n",
    "df_names = df_names.iloc[df_names.groupby('goalieFullName')['gamesPlayed'].idxmax()]\n",
    "\n",
    "df_ahl_names = df_names[df_names['League'] == 'NHL'].values.tolist()\n",
    "names_list = [name[0] for name in df_ahl_names]\n",
    "\n",
    "df_nhl_init['goalieFullName'] = df_nhl_init['goalieFullName'].str.lower()\n",
    "file_clean = df_nhl_init[df_nhl_init['goalieFullName'].isin(names_list)]\n",
    "\n",
    "file_clean"
   ]
  },
  {
   "cell_type": "markdown",
   "metadata": {},
   "source": [
    "# Games Played Multiplier"
   ]
  },
  {
   "cell_type": "code",
   "execution_count": null,
   "metadata": {},
   "outputs": [],
   "source": [
    "df_wins = file_clean.loc[:,['goalieFullName','gamesPlayed']]\n",
    "\n",
    "df_wins['wins_zscore'] = zscore(df_wins['gamesPlayed'])\n",
    "\n",
    "wins_z_min = df_wins['wins_zscore'].min()\n",
    "wins_z_max = df_wins['wins_zscore'].max()\n",
    "\n",
    "wins_z_range = wins_z_max-wins_z_min\n",
    "wins_incr_du = wins_z_range/(rate_range_skill)\n",
    "\n",
    "df_wins['GP'] = max_rate_skill-((wins_z_max-df_wins['wins_zscore'])/wins_incr_du)\n",
    "\n",
    "df_winx = df_wins[['goalieFullName','GP']]\n",
    "\n",
    "df_winx"
   ]
  },
  {
   "cell_type": "markdown",
   "metadata": {},
   "source": [
    "# Skating (SK)"
   ]
  },
  {
   "cell_type": "markdown",
   "metadata": {},
   "source": [
    "1. GAA (80%)\n",
    "2. Wins (20%)"
   ]
  },
  {
   "cell_type": "code",
   "execution_count": null,
   "metadata": {},
   "outputs": [],
   "source": [
    "df_sk = file_clean.loc[:,['goalieFullName','gamesPlayed','goalsAgainstAverage']]\n",
    "\n",
    "df_sk['goalsAgainstAverage'] = np.where(df_sk['gamesPlayed'] <= 5, 3, df_sk['goalsAgainstAverage'])\n",
    "df_sk['goalsAgainstAverage'] = np.where(df_sk['goalsAgainstAverage'] >= 4, 4, df_sk['goalsAgainstAverage'])\n",
    "\n",
    "df_sk['gaa_zscore'] = zscore(df_sk['goalsAgainstAverage'])\n",
    "\n",
    "sk_z_min = df_sk['gaa_zscore'].max()\n",
    "sk_z_max = df_sk['gaa_zscore'].min()\n",
    "\n",
    "sk_z_range = sk_z_max-sk_z_min\n",
    "sk_z_incr = sk_z_range/rate_range_skill\n",
    "\n",
    "df_sk['SK_'] = max_rate_skill-((sk_z_max-df_sk['gaa_zscore'])/sk_z_incr)\n",
    "\n",
    "df_sk_merge = df_sk.merge(df_winx, how='left', on='goalieFullName')\n",
    "\n",
    "df_sk_merge['SK'] = (df_sk_merge['SK_'] * 0.8) + (df_sk_merge['GP'] * 0.2)\n",
    "\n",
    "df_sk_rate = df_sk_merge[['goalieFullName','SK']]\n",
    "\n",
    "df_sk_rate.sort_values(by='SK',ascending=False,inplace=True)\n",
    "\n",
    "df_sk_rate"
   ]
  },
  {
   "cell_type": "markdown",
   "metadata": {},
   "source": [
    "## Durability (DU)"
   ]
  },
  {
   "cell_type": "code",
   "execution_count": null,
   "metadata": {},
   "outputs": [],
   "source": [
    "min_rate = 55\n",
    "max_rate = 99\n",
    "rate_range = max_rate - min_rate"
   ]
  },
  {
   "cell_type": "code",
   "execution_count": null,
   "metadata": {},
   "outputs": [],
   "source": [
    "df_du = file_clean.loc[:,['goalieFullName','gamesPlayed']]\n",
    "df_du['gamesPlayed'] = np.where(df_du['gamesPlayed'] > 65, 65, df_du['gamesPlayed'])\n",
    "df_du['gamesPlayed'] = np.where(df_du['gamesPlayed'] < 5, 5, df_du['gamesPlayed'])\n",
    "df_du['gp_zscore'] = zscore(df_du['gamesPlayed'])\n",
    "\n",
    "du_z_min = df_du['gp_zscore'].min()\n",
    "du_z_max = df_du['gp_zscore'].max()\n",
    "\n",
    "du_z_range = du_z_max-du_z_min\n",
    "z_incr_du = du_z_range/rate_range\n",
    "\n",
    "df_du['DU'] = max_rate-((du_z_max-df_du['gp_zscore'])/z_incr_du)\n",
    "\n",
    "df_du_rate = df_du[['goalieFullName','DU']]\n",
    "\n",
    "df_du_rate"
   ]
  },
  {
   "cell_type": "markdown",
   "metadata": {},
   "source": [
    "## Endurance (EN)"
   ]
  },
  {
   "cell_type": "code",
   "execution_count": null,
   "metadata": {},
   "outputs": [],
   "source": [
    "df_en = file_clean.loc[:,['goalieFullName','timeOnIce']]\n",
    "df_en['toi_zscore'] = zscore(df_en['timeOnIce'])\n",
    "\n",
    "en_z_min = df_en['toi_zscore'].min()\n",
    "en_z_max = df_en['toi_zscore'].max()\n",
    "\n",
    "en_z_range = en_z_max-en_z_min\n",
    "z_incr_en = en_z_range/rate_range\n",
    "\n",
    "df_en['EN'] = max_rate-((en_z_max-df_en['toi_zscore'])/z_incr_en)\n",
    "\n",
    "df_en_rate = df_en[['goalieFullName','EN']]\n",
    "\n",
    "df_en_rate"
   ]
  },
  {
   "cell_type": "markdown",
   "metadata": {},
   "source": [
    "# Size (SZ)"
   ]
  },
  {
   "cell_type": "markdown",
   "metadata": {},
   "source": [
    "1. Height (85%)\n",
    "2. Weight (15%)"
   ]
  },
  {
   "cell_type": "code",
   "execution_count": null,
   "metadata": {},
   "outputs": [],
   "source": [
    "df_2['goalieFullName'] = df_2['goalieFullName'].str.lower()\n",
    "df2 = df_2[df_2['goalieFullName'].isin(names_list)]\n",
    "\n",
    "min_rate_sz = 68\n",
    "max_rate_sz = 99\n",
    "rate_range_sz = max_rate_sz - min_rate_sz"
   ]
  },
  {
   "cell_type": "code",
   "execution_count": null,
   "metadata": {},
   "outputs": [],
   "source": [
    "df_sz = df2.loc[:,['goalieFullName','height','weight']]\n",
    "df_sz['h_zscore'] = zscore(df_sz['height'])\n",
    "df_sz['w_zscore'] = zscore(df_sz['weight'])\n",
    "\n",
    "szh_z_min = df_sz['h_zscore'].min()\n",
    "szh_z_max = df_sz['h_zscore'].max()\n",
    "\n",
    "szw_z_min = df_sz['w_zscore'].min()\n",
    "szw_z_max = df_sz['w_zscore'].max()\n",
    "\n",
    "szh_z_range = szh_z_max-szh_z_min\n",
    "szh_z_incr = szh_z_range/rate_range_sz\n",
    "\n",
    "szw_z_range = szw_z_max-szw_z_min\n",
    "szw_z_incr = szw_z_range/rate_range_sz"
   ]
  },
  {
   "cell_type": "code",
   "execution_count": null,
   "metadata": {},
   "outputs": [],
   "source": [
    "df_sz['H'] = max_rate_sz-((szh_z_max-df_sz['h_zscore'])/szh_z_incr)\n",
    "df_sz['W'] = max_rate_sz-((szw_z_max-df_sz['w_zscore'])/szw_z_incr)\n",
    "df_sz['SZ'] = (df_sz['H'] * 0.85) + (df_sz['W'] * 0.15) \n",
    "\n",
    "df_sz_rate = df_sz[['goalieFullName','SZ','height']]\n",
    "\n",
    "df_sz_rate.sort_values(by='SZ',ascending=False, inplace=True)\n",
    "\n",
    "df_sz_rate"
   ]
  },
  {
   "cell_type": "markdown",
   "metadata": {},
   "source": [
    "# Agility (AG)"
   ]
  },
  {
   "cell_type": "markdown",
   "metadata": {},
   "source": [
    "1. High Danger xGoals / TOI"
   ]
  },
  {
   "cell_type": "code",
   "execution_count": null,
   "metadata": {},
   "outputs": [],
   "source": [
    "df_3.rename(columns={'name':'goalieFullName'},inplace=True)\n",
    "df_3['goalieFullName'] = df_3['goalieFullName'].str.lower()\n",
    "df3 = df_3[df_3['goalieFullName'].isin(names_list)]\n",
    "\n",
    "df3 = df3.loc[df3['situation'] == 'all']\n",
    "\n",
    "df_ag = df3.loc[:,['goalieFullName','icetime','highDangerShots','highDangerGoals','highDangerxGoals']]\n",
    "\n",
    "df_ag['HDxG/60'] = (df_ag['highDangerxGoals']-df_ag['highDangerGoals'])/(df_ag['icetime']/3600)\n",
    "df_ag['HDxG/60'] = np.where((df_ag['highDangerShots'] <= 15), -0.33, df_ag['HDxG/60'])\n",
    "display(df_ag.sort_values(by='HDxG/60',ascending=True))"
   ]
  },
  {
   "cell_type": "code",
   "execution_count": null,
   "metadata": {},
   "outputs": [],
   "source": [
    "df_ag['hdx_zscore'] = zscore(df_ag['HDxG/60'])\n",
    "\n",
    "hdx_z_min = df_ag['hdx_zscore'].min()\n",
    "hdx_z_max = df_ag['hdx_zscore'].max()\n",
    "\n",
    "hdx_z_range = hdx_z_max-hdx_z_min\n",
    "hdx_z_incr = hdx_z_range/(rate_range_skill+3)"
   ]
  },
  {
   "cell_type": "code",
   "execution_count": null,
   "metadata": {},
   "outputs": [],
   "source": [
    "df_ag['AG'] = max_rate_skill-((hdx_z_max-df_ag['hdx_zscore'])/hdx_z_incr)\n",
    "df_ag.rename(columns = {'name':'goalieFullName'}, inplace = True)\n",
    "\n",
    "df_ag_rate = df_ag[['goalieFullName','AG']]\n",
    "\n",
    "df_ag_rate.sort_values(by='AG',ascending=False,inplace=True)\n",
    "\n",
    "df_ag_rate"
   ]
  },
  {
   "cell_type": "markdown",
   "metadata": {},
   "source": [
    "# Rebounds (RB)"
   ]
  },
  {
   "cell_type": "markdown",
   "metadata": {},
   "source": [
    "1. (xRebounds - rebounds)/rebounds"
   ]
  },
  {
   "cell_type": "code",
   "execution_count": null,
   "metadata": {},
   "outputs": [],
   "source": [
    "df_rb = df3.loc[:,['goalieFullName','icetime','xRebounds','rebounds']]\n",
    "\n",
    "df_rb['xRB%'] = (df_rb['xRebounds'] - df_rb['rebounds'])/df_rb['rebounds']\n",
    "df_rb['xRB%'].replace(np.inf, 0, inplace=True)\n",
    "\n",
    "df_rb['xRB%'] = np.where((df_rb['rebounds'] <= 6), 0, df_rb['xRB%'])\n",
    "df_rb['xRB%'] = np.where((df_rb['xRB%'] >= 0.25), 0.15, df_rb['xRB%'])\n",
    "\n",
    "df_rb['xrb_zscore'] = zscore(df_rb['xRB%'])\n",
    "\n",
    "rb_z_min = df_rb['xrb_zscore'].min()\n",
    "rb_z_max = df_rb['xrb_zscore'].max()\n",
    "\n",
    "rb_z_range = rb_z_max-rb_z_min\n",
    "rb_z_incr = rb_z_range/rate_range_skill\n",
    "\n",
    "df_rb['RB'] = max_rate_skill-((rb_z_max-df_rb['xrb_zscore'])/rb_z_incr)\n",
    "df_rb.rename(columns = {'name':'goalieFullName'}, inplace = True)\n",
    "\n",
    "df_rb_rate = df_rb[['goalieFullName','RB']]\n",
    "\n",
    "df_rb_rate.sort_values(by='RB',ascending=False,inplace=True)\n",
    "\n",
    "df_rb_rate"
   ]
  },
  {
   "cell_type": "markdown",
   "metadata": {},
   "source": [
    "# Style Control (SC)"
   ]
  },
  {
   "cell_type": "markdown",
   "metadata": {},
   "source": [
    "1. SV% (80%)\n",
    "2. Wins (20%)"
   ]
  },
  {
   "cell_type": "code",
   "execution_count": null,
   "metadata": {},
   "outputs": [],
   "source": [
    "df_sc = file_clean.loc[:,['goalieFullName','gamesPlayed','savePct']]\n",
    "\n",
    "df_sc['savePct'] = np.where((df_sc['gamesPlayed'] <= 3), 0.875, df_sc['savePct'])\n",
    "df_sc['savePct'] = np.where((df_sc['savePct'] <= 0.875), 0.875, df_sc['savePct'])\n",
    "\n",
    "df_sc['gaa_zscore'] = zscore(df_sc['savePct'])\n",
    "\n",
    "sc_z_min = df_sc['gaa_zscore'].min()\n",
    "sc_z_max = df_sc['gaa_zscore'].max()\n",
    "\n",
    "sc_z_range = sc_z_max-sc_z_min\n",
    "sc_z_incr = sc_z_range/rate_range_skill\n",
    "\n",
    "df_sc['SC_rate'] = max_rate_skill-((sc_z_max-df_sc['gaa_zscore'])/sc_z_incr)\n",
    "\n",
    "df_sc_merge = df_sc.merge(df_winx, how='left', on='goalieFullName')\n",
    "\n",
    "df_sc_merge['SC'] = (df_sc_merge['SC_rate'] * 0.8) + (df_sc_merge['GP'] * 0.2)\n",
    "\n",
    "df_sc_rate = df_sc_merge[['goalieFullName','SC']]\n",
    "\n",
    "df_sc_rate.sort_values(by='SC',ascending=False,inplace=True)\n",
    "\n",
    "df_sc_rate"
   ]
  },
  {
   "cell_type": "markdown",
   "metadata": {},
   "source": [
    "# Hand Speed (HS)"
   ]
  },
  {
   "cell_type": "markdown",
   "metadata": {},
   "source": [
    "1. GSAA (100%)"
   ]
  },
  {
   "cell_type": "code",
   "execution_count": null,
   "metadata": {},
   "outputs": [],
   "source": [
    "df_6.rename(columns={'Player':'goalieFullName'},inplace=True)\n",
    "#df_6['goalieFullName'].replace('Cal Petersen','Calvin Petersen',inplace=True)\n",
    "df_6['goalieFullName'] = df_6['goalieFullName'].str.lower()\n",
    "df6 = df_6[df_6['goalieFullName'].isin(names_list)]\n",
    "\n",
    "df_hs = df6.loc[:,['goalieFullName','GSAA']]\n",
    "df_hs['GSAA'] = np.where(df_hs['GSAA'] < -15, -15, df_hs['GSAA'])\n",
    "\n",
    "df_hs['gsaa_zscore'] = zscore(df_hs['GSAA'])\n",
    "\n",
    "hs_z_min = df_hs['gsaa_zscore'].min()\n",
    "hs_z_max = df_hs['gsaa_zscore'].max()\n",
    "hs_z_range = hs_z_max-hs_z_min\n",
    "hs_z_incr = hs_z_range/rate_range_skill\n",
    "\n",
    "df_hs['HS'] = max_rate_skill-((hs_z_max-df_hs['gsaa_zscore'])/hs_z_incr)\n",
    "df_hs.rename(columns = {'Player':'goalieFullName'}, inplace = True)\n",
    "\n",
    "df_hs_rate = df_hs[['goalieFullName','HS']]\n",
    "\n",
    "df_hs_rate.sort_values(by='HS',ascending=False,inplace=True)\n",
    "\n",
    "df_hs_rate"
   ]
  },
  {
   "cell_type": "markdown",
   "metadata": {},
   "source": [
    "# Reaction Time (RT)"
   ]
  },
  {
   "cell_type": "markdown",
   "metadata": {},
   "source": [
    "1. HDSV% (70%)\n",
    "2. Wins (30%)"
   ]
  },
  {
   "cell_type": "code",
   "execution_count": null,
   "metadata": {},
   "outputs": [],
   "source": [
    "df_rt = df3.loc[:,['goalieFullName','highDangerShots','highDangerGoals']]\n",
    "\n",
    "df_rt['HDSv%'] = ((df_ag['highDangerShots']-df_rt['highDangerGoals'])/df_ag['highDangerShots'])\n",
    "df_rt['HDSv%'] = np.where((df_rt['HDSv%'] == 1) | (df_rt['highDangerShots'] < 10), 0.5, df_rt['HDSv%'])\n",
    "df_rt['HDSv%'] = df_rt['HDSv%'].fillna(0.5)\n",
    "\n",
    "df_rt['hdsv%_zscore'] = zscore(df_rt['HDSv%'])\n",
    "\n",
    "rt_z_min = df_rt['hdsv%_zscore'].min()\n",
    "rt_z_max = df_rt['hdsv%_zscore'].max()\n",
    "rt_z_range = rt_z_max-rt_z_min\n",
    "rt_z_incr = rt_z_range/rate_range_skill\n",
    "\n",
    "df_rt['RT_rate'] = max_rate_skill-((rt_z_max-df_rt['hdsv%_zscore'])/rt_z_incr)\n",
    "df_rt.rename(columns = {'name':'goalieFullName'}, inplace = True)\n",
    "\n",
    "df_rt_merge = df_rt.merge(df_winx, how='left', on='goalieFullName')\n",
    "\n",
    "df_rt_merge['RT'] = (df_rt_merge['RT_rate'] * 0.7) + (df_rt_merge['GP'] * 0.3)\n",
    "\n",
    "\n",
    "df_rt_rate = df_rt_merge[['goalieFullName','RT']]\n",
    "\n",
    "df_rt_rate.sort_values(by='RT',ascending=False,inplace=True)\n",
    "\n",
    "df_rt_rate"
   ]
  },
  {
   "cell_type": "markdown",
   "metadata": {},
   "source": [
    "# Puck Handling (PH)"
   ]
  },
  {
   "cell_type": "markdown",
   "metadata": {},
   "source": [
    "1. Assists/60"
   ]
  },
  {
   "cell_type": "code",
   "execution_count": null,
   "metadata": {},
   "outputs": [],
   "source": [
    "df_ph = file_clean.loc[:,['goalieFullName','gamesPlayed','assists','timeOnIce']]\n",
    "\n",
    "df_ph2 = df_ph[df_ph['assists'] > 0]\n",
    "df_ph3 = df_ph[df_ph['assists'] == 0]\n",
    "\n",
    "df_ph2['a60'] = df_ph2['assists']/(df_ph2['timeOnIce']/3600)\n",
    "df_ph2['a60_zscore'] = zscore(df_ph2['a60'])\n",
    "\n",
    "df_ph3['gamesPlayed_zscore'] = zscore(df_ph3['gamesPlayed'])\n",
    "\n",
    "ph_z_min = df_ph2['a60_zscore'].min()\n",
    "ph_z_max = df_ph2['a60_zscore'].max()\n",
    "ph_z_range = ph_z_max-ph_z_min\n",
    "ph_z_incr = ph_z_range/(rate_range_skill-15)\n",
    "\n",
    "ph2_z_min = df_ph3['gamesPlayed_zscore'].min()\n",
    "ph2_z_max = df_ph3['gamesPlayed_zscore'].max()\n",
    "ph2_z_range = ph2_z_max-ph2_z_min\n",
    "ph2_z_incr = ph2_z_range/(rate_range_skill-20)\n",
    "\n",
    "df_ph2['PH'] = max_rate_skill-((ph_z_max-df_ph2['a60_zscore'])/ph_z_incr)\n",
    "df_ph3['PH'] = 80-((ph2_z_max-df_ph3['gamesPlayed_zscore'])/ph2_z_incr)\n",
    "\n",
    "df_ph4 = pd.concat([df_ph2,df_ph3])\n",
    "\n",
    "df_ph_rate = df_ph4[['goalieFullName','PH']]\n",
    "\n",
    "df_ph_rate.sort_values(by='PH',ascending=False,inplace=True)\n",
    "\n",
    "df_ph_rate"
   ]
  },
  {
   "cell_type": "markdown",
   "metadata": {},
   "source": [
    "# Penalty Shots (PS)"
   ]
  },
  {
   "cell_type": "markdown",
   "metadata": {},
   "source": [
    "1. Penalty Shot Saves (30%)\n",
    "2. Penalty Shot SV% Season (50%)\n",
    "3. Penalty Shot SV% Career (20%)"
   ]
  },
  {
   "cell_type": "code",
   "execution_count": null,
   "metadata": {},
   "outputs": [],
   "source": [
    "df_4['goalieFullName'] = df_4['goalieFullName'].str.lower()\n",
    "df4 = df_4[df_4['goalieFullName'].isin(names_list)]\n",
    "\n",
    "df_ps = df4.loc[:,['goalieFullName','careerShootoutSavePct','shootoutSavePct','shootoutSaves']]\n",
    "\n",
    "df_ps['saves_zscore'] = zscore(df_ps['shootoutSaves'])\n",
    "df_ps['career_zscore'] = zscore(df_ps['careerShootoutSavePct'])\n",
    "df_ps['season_zscore'] = zscore(df_ps['shootoutSavePct'])\n",
    "\n",
    "ps_z_min = df_ps['saves_zscore'].min()\n",
    "ps_z_max = df_ps['saves_zscore'].max()\n",
    "ps_z_range = ps_z_max-ps_z_min\n",
    "ps_z_incr = ps_z_range/rate_range_skill\n",
    "\n",
    "ps2_z_min = df_ps['career_zscore'].min()\n",
    "ps2_z_max = df_ps['career_zscore'].max()\n",
    "ps2_z_range = ps2_z_max-ps2_z_min\n",
    "ps2_z_incr = ps2_z_range/rate_range_skill\n",
    "\n",
    "ps3_z_min = df_ps['season_zscore'].min()\n",
    "ps3_z_max = df_ps['season_zscore'].max()\n",
    "ps3_z_range = ps3_z_max-ps3_z_min\n",
    "ps3_z_incr = ps3_z_range/rate_range_skill\n",
    "\n",
    "df_ps['saves'] = (max_rate_skill+5)-((ps_z_max-df_ps['saves_zscore'])/ps_z_incr)\n",
    "df_ps['career'] = (max_rate_skill+5)-((ps2_z_max-df_ps['career_zscore'])/ps2_z_incr)\n",
    "df_ps['season'] = (max_rate_skill+5)-((ps3_z_max-df_ps['season_zscore'])/ps3_z_incr)\n",
    "df_ps['PS'] = (df_ps['saves'] * 0.3) + (df_ps['season'] * 0.5)  + (df_ps['career'] * 0.2)\n",
    "\n",
    "df_ps_rate = df_ps[['goalieFullName','PS']]\n",
    "\n",
    "df_ps_rate"
   ]
  },
  {
   "cell_type": "markdown",
   "metadata": {},
   "source": [
    "# Experience (EX)"
   ]
  },
  {
   "cell_type": "markdown",
   "metadata": {},
   "source": [
    "1. Career Games Played"
   ]
  },
  {
   "cell_type": "code",
   "execution_count": null,
   "metadata": {},
   "outputs": [],
   "source": [
    "df_5['goalieFullName'] = df_5['goalieFullName'].str.lower()\n",
    "df5 = df_5[df_5['goalieFullName'].isin(names_list)]\n",
    "\n",
    "df_ex = df5.loc[:,['Id','goalieFullName','Birthday','City','State/Province','Country','Weight','Rookie','GP_season']]\n",
    "\n",
    "df_ex['GP_season'] = np.where(df_ex['GP_season'] >= 900, 900, df_ex['GP_season'])\n",
    "df_ex['games_zscore'] = zscore(df_ex['GP_season'])\n",
    "\n",
    "ex_z_min = df_ex['games_zscore'].min()\n",
    "ex_z_max = df_ex['games_zscore'].max()\n",
    "ex_z_range = ex_z_max-ex_z_min\n",
    "ex_z_incr = ex_z_range/rate_range\n",
    "\n",
    "df_ex['EX'] = max_rate-((ex_z_max-df_ex['games_zscore'])/ex_z_incr)\n",
    "df_ex['name'] = df_ex['goalieFullName'].str.lower()\n",
    "df_ex['name'] = df_ex['goalieFullName'].str.replace(' ','-')\n",
    "df_ex['UrlLink'] = 'https://www.nhl.com/player/' + df_ex['name'] + '-' + df_ex['Id'].astype(str)\n",
    "\n",
    "df_ex_rate = df_ex[['Id','goalieFullName','UrlLink','Birthday','City','State/Province','Country','Weight','Rookie','EX']]\n",
    "\n",
    "df_ex_rate.sort_values(by='EX',ascending=False,inplace=True)\n",
    "\n",
    "df_ex_rate"
   ]
  },
  {
   "cell_type": "markdown",
   "metadata": {},
   "source": [
    "# Leadership (LD)"
   ]
  },
  {
   "cell_type": "code",
   "execution_count": null,
   "metadata": {},
   "outputs": [],
   "source": [
    "df_ld = df5.loc[:,['goalieFullName','GP_playoffs']]\n",
    "\n",
    "df_ld['games_zscore'] = zscore(df_ld['GP_playoffs'])\n",
    "\n",
    "ld_z_min = df_ld['games_zscore'].min()\n",
    "ld_z_max = df_ld['games_zscore'].max()\n",
    "ld_z_range = ld_z_max-ld_z_min\n",
    "ld_z_incr = ld_z_range/rate_range\n",
    "\n",
    "df_ld['LD'] = max_rate-((ld_z_max-df_ld['games_zscore'])/ld_z_incr)\n",
    "\n",
    "df_ld_rate = df_ld[['goalieFullName','LD']]\n",
    "\n",
    "df_ld_rate"
   ]
  },
  {
   "cell_type": "markdown",
   "metadata": {},
   "source": [
    "# Overall (OV)"
   ]
  },
  {
   "cell_type": "code",
   "execution_count": null,
   "metadata": {
    "scrolled": true
   },
   "outputs": [],
   "source": [
    "df_ov = df_sk_rate.merge(df_du_rate, how='left',on=['goalieFullName']).merge(df_en_rate, how='left',on=['goalieFullName']).merge(df_sz_rate,how='left',on=['goalieFullName']).merge(df_ag_rate,how='left',on=['goalieFullName']).merge(df_rb_rate,how='left',on=['goalieFullName']).merge(df_sc_rate,how='left',on=['goalieFullName']).merge(df_hs_rate,how='left',on=['goalieFullName']).merge(df_rt_rate,how='left',on=['goalieFullName']).merge(df_ph_rate,how='left',on=['goalieFullName']).merge(df_ps_rate,how='left',on=['goalieFullName']).merge(df_ex_rate,how='left',on=['goalieFullName']).merge(df_ld_rate,how='left',on=['goalieFullName'])\n",
    "df_ov['Rookie'] = np.where(df_ov['Rookie'].astype(str).str.contains('True'), \"Y\", \"N\")\n",
    "df_ov['Position'] = 1\n",
    "df_ov['PO'] = 1\n",
    "df_ov['Contract'] = 1\n",
    "df_ov['Salary'] = 1\n",
    "df_ov['Year'] = df_ov['Birthday'].str.slice(start=0,stop=4)\n",
    "df_ov['Month'] = df_ov['Birthday'].str.slice(start=5,stop=7)\n",
    "df_ov['Day'] = df_ov['Birthday'].str.slice(start=8)\n",
    "df_ov = df_ov.fillna(55)\n",
    "\n",
    "df_ov = df_ov[['Id','goalieFullName','Position','Country','Rookie','Year','Month','Day','Contract','Salary','UrlLink','Weight','height','SK','DU','EN','SZ','AG','RB','SC','HS','RT','PH','PS','EX','LD','PO']]\n",
    "\n",
    "df_ov['OV'] = (df_ov['SK'] * 0.09) + (df_ov['DU'] * 0.06) + (df_ov['EN'] * 0.09) + (df_ov['SZ'] * 0.06) + (df_ov['AG'] * 0.08) + (df_ov['RB'] * 0.11) + (df_ov['SC'] * 0.13) + (df_ov['HS'] * 0.13) + (df_ov['RT'] * 0.13) + (df_ov['PH'] * 0.03) + (df_ov['PS'] * 0.01) + (df_ov['EX'] * 0.04) + (df_ov['LD'] * 0.04) \n",
    "df_ov['goalieFullName'] = df_ov['goalieFullName'].str.title()\n",
    "df_ov.sort_values(by='OV',ascending=False, inplace=True)\n",
    "\n",
    "df_ov"
   ]
  }
 ],
 "metadata": {
  "kernelspec": {
   "display_name": "Python 3",
   "language": "python",
   "name": "python3"
  },
  "language_info": {
   "codemirror_mode": {
    "name": "ipython",
    "version": 3
   },
   "file_extension": ".py",
   "mimetype": "text/x-python",
   "name": "python",
   "nbconvert_exporter": "python",
   "pygments_lexer": "ipython3",
   "version": "3.8.3"
  }
 },
 "nbformat": 4,
 "nbformat_minor": 4
}
