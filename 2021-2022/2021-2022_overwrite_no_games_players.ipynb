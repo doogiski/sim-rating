{
 "cells": [
  {
   "cell_type": "code",
   "execution_count": null,
   "metadata": {},
   "outputs": [],
   "source": [
    "import pandas as pd\n",
    "import numpy as np\n",
    "\n",
    "df_old_gk = pd.read_csv('Goalie_Ratings_2020-2021_FINAL_v2.csv',encoding='latin1')\n",
    "df_new_gk = pd.read_csv('Goalie_Ratings_2021-2022.csv')\n",
    "\n",
    "df_old_sk = pd.read_csv('Skater_Ratings_2020-2021_FINAL_v2.csv',encoding='latin1')\n",
    "df_new_sk = pd.read_csv('Skater_Ratings_2021-2022.csv')"
   ]
  },
  {
   "cell_type": "code",
   "execution_count": null,
   "metadata": {
    "scrolled": true
   },
   "outputs": [],
   "source": [
    "#Skaters\n",
    "df_new_sk['year'] = 20212022\n",
    "df_old_sk['year'] = 20202021\n",
    "\n",
    "df_concat_sk = pd.concat([df_new_sk,df_old_sk]).reset_index()\n",
    "\n",
    "df_concat_sk.drop_duplicates(subset='Player',inplace=True)\n",
    "\n",
    "df_concat_sk.loc[df_concat_sk['year'] == 20202021, ['CK','FG','DI','SK','ST','EN','DU','PH','FO','PA','SC','DF','PS','EX','LD']] = 54\n",
    "df_concat_sk['Position'] = np.where(df_concat_sk['Position'] == 'D', 8, 1)\n",
    "df_concat_sk['PO'] = 1\n",
    "df_to_print = df_concat_sk[['Id','Player','Position','Birth Country','Rookie','Year','Month','Day','Weight','Height','Contract','Salary','UrlLink','CK','FG','DI','SK','ST','EN','DU','PH','FO','PA','SC','DF','PS','EX','LD','PO','OV','League']]\n",
    "\n",
    "df_to_print.to_csv('2021-2022_players_zeroed.csv',index=False)"
   ]
  },
  {
   "cell_type": "code",
   "execution_count": null,
   "metadata": {},
   "outputs": [],
   "source": [
    "#Goalies\n",
    "\n",
    "df_new_gk['year'] = 20212022\n",
    "df_old_gk['year'] = 20202021\n",
    "\n",
    "df_concat_gk = pd.concat([df_new_gk,df_old_gk]).reset_index()\n",
    "\n",
    "df_concat_gk.drop_duplicates(subset='goalieFullName',inplace=True)\n",
    "\n",
    "df_concat_gk.loc[df_concat_gk['year'] == 20202021, ['SK','DU','EN','SZ','AG','RB','SC','HS','RT','PH','PS','EX','LD']] = 54\n",
    "df_concat_gk['PO'] = 1\n",
    "df_to_print = df_concat_gk[['Id','goalieFullName','Position','Country','Rookie','Year','Month','Day','Weight','height','Contract','Salary','UrlLink','SK','DU','EN','SZ','AG','RB','SC','HS','RT','PH','PS','EX','LD','PO','OV','League']]\n",
    "df_to_print['Position'] = 16\n",
    "df_to_print.to_csv('2021-2022_goalies_zeroed.csv',index=False)"
   ]
  }
 ],
 "metadata": {
  "kernelspec": {
   "display_name": "Python 3",
   "language": "python",
   "name": "python3"
  },
  "language_info": {
   "codemirror_mode": {
    "name": "ipython",
    "version": 3
   },
   "file_extension": ".py",
   "mimetype": "text/x-python",
   "name": "python",
   "nbconvert_exporter": "python",
   "pygments_lexer": "ipython3",
   "version": "3.8.3"
  }
 },
 "nbformat": 4,
 "nbformat_minor": 4
}
