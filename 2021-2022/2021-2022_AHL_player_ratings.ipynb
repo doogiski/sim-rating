{
 "cells": [
  {
   "cell_type": "code",
   "execution_count": null,
   "metadata": {},
   "outputs": [],
   "source": [
    "import pandas as pd\n",
    "from scipy.stats import zscore\n",
    "from datetime import datetime\n",
    "\n",
    "file_ahl = pd.read_csv('2021-2022_AHL_all_players.csv')\n",
    "file_ahl_ep = pd.read_csv('2021-2022_AHL_players_EP.csv', encoding= 'unicode_escape')\n",
    "file_nhl = pd.read_csv('2021-2022_player_stats_naturalstattrick.csv')\n",
    "df_name_update = pd.read_csv('2021-2022_name_updates.csv')\n",
    "\n",
    "min_rate = 54\n",
    "max_rate = 68\n",
    "rate_range = max_rate - min_rate"
   ]
  },
  {
   "cell_type": "markdown",
   "metadata": {},
   "source": [
    "#### Merge Stats and EP data"
   ]
  },
  {
   "cell_type": "code",
   "execution_count": null,
   "metadata": {},
   "outputs": [],
   "source": [
    "file_ahl.sort_values(by=['Player','GP'],ascending=False,inplace=True)\n",
    "file_ahl.drop_duplicates(subset='Player',keep='first',inplace=True)\n",
    "file_ahl_ep['Player'] = file_ahl_ep['Player'].str.strip(' ')\n",
    "file_ahl_merge = file_ahl.merge(file_ahl_ep,on='Player',how='left')"
   ]
  },
  {
   "cell_type": "markdown",
   "metadata": {},
   "source": [
    "# Players with more AHL games than NHL games"
   ]
  },
  {
   "cell_type": "code",
   "execution_count": null,
   "metadata": {},
   "outputs": [],
   "source": [
    "nhl = df_name_update['NHL Name'].to_list()\n",
    "ahl = df_name_update['AHL Name'].to_list()\n",
    "\n",
    "file_ahl_merge['Player'] = file_ahl_merge['Player'].replace(ahl,nhl)"
   ]
  },
  {
   "cell_type": "code",
   "execution_count": null,
   "metadata": {},
   "outputs": [],
   "source": [
    "df_ahl_init_cl = file_ahl_merge.loc[:,['Player','GP']]\n",
    "df_nhl_init_cl = file_nhl.loc[:,['Player','GP']]\n",
    "\n",
    "df_ahl_init_cl['League'] = 'AHL'\n",
    "df_nhl_init_cl['League'] = 'NHL'\n",
    "\n",
    "df_names = pd.concat([df_nhl_init_cl,df_ahl_init_cl]).reset_index(drop=True)\n",
    "df_names['Player'] = df_names['Player'].str.lower()\n",
    "\n",
    "df_names = df_names.iloc[df_names.groupby('Player')['GP'].idxmax()]\n",
    "\n",
    "df_ahl_names = df_names[df_names['League'] == 'AHL'].values.tolist()\n",
    "names_list = [name[0] for name in df_ahl_names]\n",
    "\n",
    "file_ahl_merge['Player'] = file_ahl_merge['Player'].str.lower()\n",
    "file_clean = file_ahl_merge[file_ahl_merge['Player'].isin(names_list)]\n",
    "\n",
    "file_clean"
   ]
  },
  {
   "cell_type": "code",
   "execution_count": null,
   "metadata": {},
   "outputs": [],
   "source": [
    "def get_rating(rating,stat1,stat2,stat1_wgt,stat2_wgt,inv):\n",
    "    df = file_clean.loc[:,['Player',stat1,stat2]]\n",
    "    \n",
    "    df[f'{stat1}_zscore'] = zscore(df[stat1])\n",
    "    df[f'{stat1}_zscore'] = df[f'{stat1}_zscore'] * inv\n",
    "    z_max = df[f'{stat1}_zscore'].max()\n",
    "    z_min = df[f'{stat1}_zscore'].min()\n",
    "    z_range = z_max-z_min\n",
    "    z_incr = z_range/rate_range\n",
    "\n",
    "    df[f'{stat1}_Rating'] = max_rate-((z_max-df[f'{stat1}_zscore'])/z_incr)\n",
    "    \n",
    "    df[f'{stat2}_zscore'] = zscore(df[stat2])\n",
    "    df[f'{stat2}_zscore'] = df[f'{stat2}_zscore'] * inv\n",
    "    z_max2 = df[f'{stat2}_zscore'].max()\n",
    "    z_min2 = df[f'{stat2}_zscore'].min()\n",
    "    z_range2 = z_max2-z_min2\n",
    "    z_incr2 = z_range2/rate_range\n",
    "\n",
    "    df[f'{stat2}_Rating'] = max_rate-((z_max2-df[f'{stat2}_zscore'])/z_incr2)\n",
    "    df[rating] = (df[f'{stat1}_Rating'] * stat1_wgt) + (df[f'{stat2}_Rating'] * stat2_wgt)\n",
    "    df_rate = df.loc[:,['Player',rating]]\n",
    "    df_rate.sort_values(by=rating,ascending=False,inplace=True)\n",
    "    \n",
    "    return df_rate"
   ]
  },
  {
   "cell_type": "markdown",
   "metadata": {},
   "source": [
    "# CK"
   ]
  },
  {
   "cell_type": "code",
   "execution_count": null,
   "metadata": {
    "scrolled": true
   },
   "outputs": [],
   "source": [
    "ck = get_rating('CK','PIM/G','GP',1,0,1)"
   ]
  },
  {
   "cell_type": "markdown",
   "metadata": {},
   "source": [
    "# FG"
   ]
  },
  {
   "cell_type": "code",
   "execution_count": null,
   "metadata": {},
   "outputs": [],
   "source": [
    "fg = get_rating('FG','FG','GP',1,0,1)"
   ]
  },
  {
   "cell_type": "markdown",
   "metadata": {},
   "source": [
    "# DI"
   ]
  },
  {
   "cell_type": "code",
   "execution_count": null,
   "metadata": {},
   "outputs": [],
   "source": [
    "di = get_rating('DI','PIM','GP',1,0,-1)"
   ]
  },
  {
   "cell_type": "markdown",
   "metadata": {},
   "source": [
    "# SK"
   ]
  },
  {
   "cell_type": "code",
   "execution_count": null,
   "metadata": {},
   "outputs": [],
   "source": [
    "sk = get_rating('SK','Shots','GP',1,0,1)"
   ]
  },
  {
   "cell_type": "markdown",
   "metadata": {},
   "source": [
    "# ST"
   ]
  },
  {
   "cell_type": "code",
   "execution_count": null,
   "metadata": {},
   "outputs": [],
   "source": [
    "st_max = 80\n",
    "st_min = 50\n",
    "st_range = st_max - st_min\n",
    "\n",
    "st_calc = file_clean.loc[:,['Player','Pos','height','weight']]\n",
    "st_calc['height'].fillna(180,inplace=True)\n",
    "st_calc['weight'].fillna(190,inplace=True)\n",
    "st_calc['height'] = round(st_calc['height'] / 2.54).astype(int)\n",
    "st_calc['ratio'] = (st_calc['height'] * 0.75) + (st_calc['weight'] * 0.25)\n",
    "\n",
    "\n",
    "st_calc['ratio_zscore'] = zscore(st_calc['ratio'])\n",
    "z_max = st_calc['ratio_zscore'].max()\n",
    "z_min = st_calc['ratio_zscore'].min()\n",
    "z_range = z_max-z_min\n",
    "z_incr = z_range/st_range\n",
    "\n",
    "st_calc['ST'] = st_max-((z_max-st_calc['ratio_zscore'])/z_incr)\n",
    "st = st_calc.loc[:,['Player','Pos','height','weight','ST']]\n",
    "\n",
    "st.sort_values(by='ST',ascending=False)"
   ]
  },
  {
   "cell_type": "markdown",
   "metadata": {},
   "source": [
    "# EN"
   ]
  },
  {
   "cell_type": "code",
   "execution_count": null,
   "metadata": {},
   "outputs": [],
   "source": [
    "en = get_rating('EN','Shots','GP',0,1,1)"
   ]
  },
  {
   "cell_type": "markdown",
   "metadata": {},
   "source": [
    "# DU"
   ]
  },
  {
   "cell_type": "code",
   "execution_count": null,
   "metadata": {},
   "outputs": [],
   "source": [
    "du = get_rating('DU','PIM','GP',0.2,0.8,1)"
   ]
  },
  {
   "cell_type": "markdown",
   "metadata": {},
   "source": [
    "# PH"
   ]
  },
  {
   "cell_type": "code",
   "execution_count": null,
   "metadata": {},
   "outputs": [],
   "source": [
    "ph = get_rating('PH','PTS','GP',1,0,1)"
   ]
  },
  {
   "cell_type": "markdown",
   "metadata": {},
   "source": [
    "# FO"
   ]
  },
  {
   "cell_type": "code",
   "execution_count": null,
   "metadata": {},
   "outputs": [],
   "source": [
    "fo = file_clean.loc[:,['Player','Pos']]\n",
    "\n",
    "fo['Pos'].replace({'C' : 70,'LW': 55, 'RW' : 55, 'F' : 55,'D' : 40}, inplace=True)\n",
    "\n",
    "fo.rename(columns={'Pos': 'FO'}, inplace=True)"
   ]
  },
  {
   "cell_type": "markdown",
   "metadata": {},
   "source": [
    "# PA"
   ]
  },
  {
   "cell_type": "code",
   "execution_count": null,
   "metadata": {},
   "outputs": [],
   "source": [
    "pa = get_rating('PA','A','GP',1,0,1)"
   ]
  },
  {
   "cell_type": "markdown",
   "metadata": {},
   "source": [
    "# SC"
   ]
  },
  {
   "cell_type": "code",
   "execution_count": null,
   "metadata": {},
   "outputs": [],
   "source": [
    "sc = get_rating('SC','G','GP',1,0,1)"
   ]
  },
  {
   "cell_type": "markdown",
   "metadata": {},
   "source": [
    "# DF"
   ]
  },
  {
   "cell_type": "code",
   "execution_count": null,
   "metadata": {},
   "outputs": [],
   "source": [
    "df = get_rating('DF',' +/-','GP',1,0,1)"
   ]
  },
  {
   "cell_type": "markdown",
   "metadata": {},
   "source": [
    "# PS"
   ]
  },
  {
   "cell_type": "code",
   "execution_count": null,
   "metadata": {},
   "outputs": [],
   "source": [
    "ps = get_rating('PS','SOG','GP',1,0,1)"
   ]
  },
  {
   "cell_type": "markdown",
   "metadata": {},
   "source": [
    "# EX"
   ]
  },
  {
   "cell_type": "code",
   "execution_count": null,
   "metadata": {},
   "outputs": [],
   "source": [
    "ex_max = 85\n",
    "ex_min = 50\n",
    "ex_range = ex_max - ex_min\n",
    "\n",
    "ex_calc = file_clean.loc[:,['Player','nation','dob','link']]\n",
    "ex_calc['Year'] = ex_calc['dob'].str[:4]\n",
    "ex_calc['Year'].fillna(2000,inplace=True)\n",
    "ex_calc['Month'] = ex_calc['dob'].str[5:7]\n",
    "ex_calc['Day'] = ex_calc['dob'].str[8:]\n",
    "ex_calc['Age'] = 2021 - ex_calc['Year'].astype(int)\n",
    "\n",
    "ex_calc['ex_zscore'] = zscore(ex_calc['Age'])\n",
    "z_ex_max = ex_calc['ex_zscore'].max()\n",
    "z_ex_min = ex_calc['ex_zscore'].min()\n",
    "z_ex_range = z_ex_max-z_ex_min\n",
    "z_ex_incr = z_ex_range/ex_range\n",
    "\n",
    "ex_calc['EX'] = ex_max-((z_ex_max-ex_calc['ex_zscore'])/z_ex_incr)\n",
    "ex = ex_calc.loc[:,['Player','nation','Year','Month','Day','link','EX']]\n",
    "\n",
    "ex.sort_values(by='EX',ascending=False)"
   ]
  },
  {
   "cell_type": "markdown",
   "metadata": {},
   "source": [
    "# LD"
   ]
  },
  {
   "cell_type": "code",
   "execution_count": null,
   "metadata": {},
   "outputs": [],
   "source": [
    "ld_max = 70\n",
    "ld_min = 50\n",
    "ld_range = ld_max - ld_min\n",
    "\n",
    "ld_calc = file_clean.loc[:,['Player','dob']]\n",
    "ld_calc['Year'] = ld_calc['dob'].str[:4]\n",
    "ld_calc['Year'].fillna(2000,inplace=True)\n",
    "ld_calc['Age'] = 2021 - ld_calc['Year'].astype(int)\n",
    "\n",
    "ld_calc['ld_zscore'] = zscore(ld_calc['Age'])\n",
    "z_ld_max = ld_calc['ld_zscore'].max()\n",
    "z_ld_min = ld_calc['ld_zscore'].min()\n",
    "z_ld_range = z_ld_max-z_ld_min\n",
    "z_ld_incr = z_ld_range/ld_range\n",
    "\n",
    "ld_calc['LD'] = ld_max-((z_ld_max-ld_calc['ld_zscore'])/z_ld_incr)\n",
    "ld = ld_calc.loc[:,['Player','LD']]\n",
    "\n",
    "ld.sort_values(by='LD',ascending=False)"
   ]
  },
  {
   "cell_type": "markdown",
   "metadata": {},
   "source": [
    "# OV"
   ]
  },
  {
   "cell_type": "code",
   "execution_count": null,
   "metadata": {
    "scrolled": true
   },
   "outputs": [],
   "source": [
    "df_ov = ck.merge(fg, how='left',on=['Player']).merge(di, how='left',on=['Player']).merge(sk, how='left',on=['Player']).merge(st, how='left',on=['Player']).merge(en, how='left',on=['Player']).merge(du, how='left',on=['Player']).merge(ph, how='left',on=['Player']).merge(fo, how='left',on=['Player']).merge(pa, how='left',on=['Player']).merge(sc, how='left',on=['Player']).merge(df, how='left',on=['Player']).merge(ps, how='left',on=['Player']).merge(ex, how='left',on=['Player']).merge(ld, how='left',on=['Player'])\n",
    "df_ov['Rookie'] = 'N'\n",
    "df_ov['PO'] = 1\n",
    "df_ov['Contract'] = 1\n",
    "df_ov['Salary'] = 1\n",
    "df_ov['League'] = 'AHL'\n",
    "\n",
    "df_ov.drop_duplicates(subset='Player',inplace=True)\n",
    "df_ov_f = df_ov[df_ov['Pos'] != 'D']\n",
    "df_ov_d = df_ov[df_ov['Pos'] == 'D']\n",
    "\n",
    "df_ov_d['OV'] = (df_ov_d['CK'] *0.08) + (df_ov_d['DI'] *0.02) + (df_ov_d['SK'] *0.10) + (df_ov_d['ST'] *0.05) + (df_ov_d['EN'] *0.09) + (df_ov_d['DU'] *0.02) + (df_ov_d['PH'] *0.14) + (df_ov_d['PA'] *0.12) + (df_ov_d['SC'] *0.16) + (df_ov_d['DF'] *0.15) + (df_ov_d['EX'] *0.03) + (df_ov_d['LD'] *0.04)\n",
    "df_ov_f['OV'] = (df_ov_f['CK'] *0.07) + (df_ov_f['DI'] *0.02) + (df_ov_f['SK'] *0.10) + (df_ov_f['ST'] *0.05) + (df_ov_f['EN'] *0.09) + (df_ov_f['DU'] *0.02) + (df_ov_f['PH'] *0.14) + (df_ov_f['PA'] *0.14) + (df_ov_f['SC'] *0.19) + (df_ov_f['DF'] *0.11) + (df_ov_f['EX'] *0.03) + (df_ov_f['LD'] *0.03) + (df_ov_f['FO'] *0.01)\n",
    "\n",
    "df_ov_rate = pd.concat([df_ov_d,df_ov_f])\n",
    "df_ov_rate = df_ov_rate[['Player','Pos','nation','Rookie','Year','Month','Day','weight','height','Contract','Salary','link','CK','FG','DI','SK','ST','EN','DU','PH','FO','PA','SC','DF','PS','EX','LD','PO','OV','League']]\n",
    "df_ov_rate['Player'] = df_ov_rate['Player'].str.title()\n",
    "\n",
    "df_to_print = df_ov_rate.sort_values(by=['OV'],ascending=False)\n",
    "df_to_print.to_csv('AHL_Skater_Ratings_2021-2022.csv',index=False)\n",
    "\n",
    "df_to_print"
   ]
  }
 ],
 "metadata": {
  "interpreter": {
   "hash": "cef9e06bb236b2a8629b07e87a04b187b952a0f661eff5533360a155783f0c33"
  },
  "kernelspec": {
   "display_name": "Python 3",
   "language": "python",
   "name": "python3"
  },
  "language_info": {
   "codemirror_mode": {
    "name": "ipython",
    "version": 3
   },
   "file_extension": ".py",
   "mimetype": "text/x-python",
   "name": "python",
   "nbconvert_exporter": "python",
   "pygments_lexer": "ipython3",
   "version": "3.8.3"
  }
 },
 "nbformat": 4,
 "nbformat_minor": 4
}
