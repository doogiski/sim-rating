{
 "cells": [
  {
   "cell_type": "code",
   "execution_count": null,
   "metadata": {},
   "outputs": [],
   "source": [
    "import pandas as pd\n",
    "from scipy.stats import zscore\n",
    "from datetime import datetime\n",
    "\n",
    "file_ahl = pd.read_csv('2021-2022_AHL_all_goalies.csv')\n",
    "file_ahl_ep = pd.read_csv('2021-2022_AHL_goalies_EP.csv', encoding= 'unicode_escape')\n",
    "file_nhl = pd.read_csv('2021-2022_NS_Goalie_Counts.csv')\n",
    "\n",
    "min_rate = 54\n",
    "max_rate = 70\n",
    "rate_range = max_rate - min_rate"
   ]
  },
  {
   "cell_type": "markdown",
   "metadata": {},
   "source": [
    "Merge data and EP information"
   ]
  },
  {
   "cell_type": "code",
   "execution_count": null,
   "metadata": {},
   "outputs": [],
   "source": [
    "file_ahl.sort_values(by=['Goalie','GP'],ascending=False,inplace=True)\n",
    "file_ahl.drop_duplicates(subset='Goalie',keep='first',inplace=True)\n",
    "file_ahl_ep.rename(columns={'player' : 'Goalie'},inplace=True)\n",
    "file_ahl_ep['Goalie'] = file_ahl_ep['Goalie'].str.strip(' ')\n",
    "file_ahl_merge = file_ahl.merge(file_ahl_ep,on='Goalie',how='left')\n",
    "\n",
    "file_ahl_merge"
   ]
  },
  {
   "cell_type": "markdown",
   "metadata": {},
   "source": [
    "# Goalies with more AHL games than NHL games"
   ]
  },
  {
   "cell_type": "code",
   "execution_count": null,
   "metadata": {},
   "outputs": [],
   "source": [
    "df_ahl_init_cl = file_ahl_merge.loc[:,['Goalie','GP']]\n",
    "df_nhl_init_cl = file_nhl.loc[:,['Player','GP']]\n",
    "df_nhl_init_cl.rename(columns={'Player':'Goalie'},inplace=True)\n",
    "\n",
    "df_ahl_init_cl['League'] = 'AHL'\n",
    "df_nhl_init_cl['League'] = 'NHL'\n",
    "\n",
    "df_names = pd.concat([df_nhl_init_cl,df_ahl_init_cl]).reset_index(drop=True)\n",
    "df_names['Goalie'] = df_names['Goalie'].str.lower()\n",
    "\n",
    "df_names = df_names.iloc[df_names.groupby('Goalie')['GP'].idxmax()]\n",
    "\n",
    "df_ahl_names = df_names[df_names['League'] == 'AHL'].values.tolist()\n",
    "names_list = [name[0] for name in df_ahl_names]\n",
    "\n",
    "file_ahl_merge['Goalie'] = file_ahl_merge['Goalie'].str.lower()\n",
    "file_clean = file_ahl_merge[file_ahl_merge['Goalie'].isin(names_list)]\n",
    "\n",
    "file_clean.to_csv('C:/Users/adoog/Desktop/goalie_names.csv')"
   ]
  },
  {
   "cell_type": "code",
   "execution_count": null,
   "metadata": {},
   "outputs": [],
   "source": [
    "def get_rating(rating,stat1,stat2,stat1_wgt,stat2_wgt,inv):\n",
    "    df = file_clean.loc[:,['Goalie',stat1,stat2]]\n",
    "    \n",
    "    df[f'{stat1}_zscore'] = zscore(df[stat1])\n",
    "    df[f'{stat1}_zscore'] = df[f'{stat1}_zscore'] * inv\n",
    "    z_max = df[f'{stat1}_zscore'].max()\n",
    "    z_min = df[f'{stat1}_zscore'].min()\n",
    "    z_range = z_max-z_min\n",
    "    z_incr = z_range/rate_range\n",
    "\n",
    "    df[f'{stat1}_Rating'] = max_rate-((z_max-df[f'{stat1}_zscore'])/z_incr)\n",
    "    \n",
    "    df[f'{stat2}_zscore'] = zscore(df[stat2])\n",
    "    df[f'{stat2}_zscore'] = df[f'{stat2}_zscore']\n",
    "    z_max2 = df[f'{stat2}_zscore'].max()\n",
    "    z_min2 = df[f'{stat2}_zscore'].min()\n",
    "    z_range2 = z_max2-z_min2\n",
    "    z_incr2 = z_range2/rate_range\n",
    "\n",
    "    df[f'{stat2}_Rating'] = max_rate-((z_max2-df[f'{stat2}_zscore'])/z_incr2)\n",
    "    df[rating] = (df[f'{stat1}_Rating'] * stat1_wgt) + (df[f'{stat2}_Rating'] * stat2_wgt)\n",
    "    df_rate = df.loc[:,['Goalie',rating]]\n",
    "    df_rate.sort_values(by=rating,ascending=False,inplace=True)\n",
    "    \n",
    "    return df_rate"
   ]
  },
  {
   "cell_type": "markdown",
   "metadata": {},
   "source": [
    "# Skating (SK)"
   ]
  },
  {
   "cell_type": "markdown",
   "metadata": {},
   "source": [
    "#### 1. Wins"
   ]
  },
  {
   "cell_type": "code",
   "execution_count": null,
   "metadata": {},
   "outputs": [],
   "source": [
    "sk = get_rating('SK','W','GP',1,0,1)\n",
    "sk"
   ]
  },
  {
   "cell_type": "markdown",
   "metadata": {},
   "source": [
    "# Durability (DU)"
   ]
  },
  {
   "cell_type": "code",
   "execution_count": null,
   "metadata": {},
   "outputs": [],
   "source": [
    "du = get_rating('DU','GP','W',0.9,0.1,1)\n",
    "du"
   ]
  },
  {
   "cell_type": "markdown",
   "metadata": {},
   "source": [
    "# Endurance (EN)"
   ]
  },
  {
   "cell_type": "code",
   "execution_count": null,
   "metadata": {},
   "outputs": [],
   "source": [
    "en = get_rating('EN','MINS','W',1,0,1)\n",
    "en"
   ]
  },
  {
   "cell_type": "markdown",
   "metadata": {},
   "source": [
    "# Size (SZ)"
   ]
  },
  {
   "cell_type": "code",
   "execution_count": null,
   "metadata": {},
   "outputs": [],
   "source": [
    "sz_max = 80\n",
    "sz_min = 52\n",
    "sz_range = sz_max - sz_min\n",
    "\n",
    "sz_calc = file_clean.loc[:,['Goalie','height','weight']]\n",
    "sz_calc['height'] = round(sz_calc['height'] / 2.54).astype(int)\n",
    "sz_calc['ratio'] = (sz_calc['height'] * 0.75) + (sz_calc['height'] * 0.25)\n",
    "\n",
    "sz_calc['ratio_zscore'] = zscore(sz_calc['ratio'])\n",
    "z_max = sz_calc['ratio_zscore'].max()\n",
    "z_min = sz_calc['ratio_zscore'].min()\n",
    "z_range = z_max-z_min\n",
    "z_incr = z_range/sz_range\n",
    "\n",
    "sz_calc['SZ'] = sz_max-((z_max-sz_calc['ratio_zscore'])/z_incr)\n",
    "sz = sz_calc.loc[:,['Goalie','height','weight','SZ']]\n",
    "\n",
    "sz.sort_values(by='SZ',ascending=False,inplace=True)\n",
    "\n",
    "sz"
   ]
  },
  {
   "cell_type": "markdown",
   "metadata": {},
   "source": [
    "# Agility (AG)"
   ]
  },
  {
   "cell_type": "code",
   "execution_count": null,
   "metadata": {},
   "outputs": [],
   "source": [
    "ag1 = get_rating('AG_','GAA','W',1,0,-1)\n",
    "\n",
    "ag_1 = ag1.merge(en,how='left',on='Goalie')\n",
    "\n",
    "ag_1['AG'] = (ag_1['AG_'] * 0.7) + (ag_1['EN'] * 0.3)\n",
    "\n",
    "ag = ag_1.loc[:,['Goalie','AG']]\n",
    "\n",
    "ag.sort_values(by='AG',ascending=False,inplace=True)\n",
    "\n",
    "ag"
   ]
  },
  {
   "cell_type": "markdown",
   "metadata": {},
   "source": [
    "# Rebounds (RB)"
   ]
  },
  {
   "cell_type": "code",
   "execution_count": null,
   "metadata": {},
   "outputs": [],
   "source": [
    "rb = get_rating('RB','SO','MINS',0.9,0.1,1)\n",
    "rb"
   ]
  },
  {
   "cell_type": "markdown",
   "metadata": {},
   "source": [
    "# Style Control (SC)"
   ]
  },
  {
   "cell_type": "code",
   "execution_count": null,
   "metadata": {},
   "outputs": [],
   "source": [
    "sc = get_rating('SC','SV%','MINS',1,0,1)\n",
    "sc"
   ]
  },
  {
   "cell_type": "markdown",
   "metadata": {},
   "source": [
    "# Hand Speed (HS)"
   ]
  },
  {
   "cell_type": "code",
   "execution_count": null,
   "metadata": {},
   "outputs": [],
   "source": [
    "hs = get_rating('HS','SVS','MINS',1,0,1)\n",
    "hs"
   ]
  },
  {
   "cell_type": "markdown",
   "metadata": {},
   "source": [
    "# Reaction Time (RT)"
   ]
  },
  {
   "cell_type": "code",
   "execution_count": null,
   "metadata": {},
   "outputs": [],
   "source": [
    "rt_max = 69\n",
    "rt_min = 54\n",
    "rt_range = rt_max - rt_min\n",
    "\n",
    "rt_calc = file_clean.loc[:,['Goalie','SVS','MINS']]\n",
    "rt_calc['SV/MIN'] = rt_calc['SVS']/rt_calc['MINS']\n",
    "\n",
    "rt_calc['ratio_zscore'] = zscore(rt_calc['SV/MIN'])\n",
    "z_max = rt_calc['ratio_zscore'].max()\n",
    "z_min = rt_calc['ratio_zscore'].min()\n",
    "z_range = z_max-z_min\n",
    "z_incr = z_range/rt_range\n",
    "\n",
    "rt_calc['RT'] = rt_max-((z_max-rt_calc['ratio_zscore'])/z_incr)\n",
    "rt = rt_calc.loc[:,['Goalie','RT']]\n",
    "\n",
    "rt.sort_values(by='RT',ascending=False,inplace=True)\n",
    "\n",
    "rt"
   ]
  },
  {
   "cell_type": "markdown",
   "metadata": {},
   "source": [
    "# Puck Handling (PH)"
   ]
  },
  {
   "cell_type": "code",
   "execution_count": null,
   "metadata": {},
   "outputs": [],
   "source": [
    "ph = get_rating('PH','GAA','MINS',0.5,0.5,1)\n",
    "ph"
   ]
  },
  {
   "cell_type": "markdown",
   "metadata": {},
   "source": [
    "# Penalty Shot (PS)"
   ]
  },
  {
   "cell_type": "code",
   "execution_count": null,
   "metadata": {},
   "outputs": [],
   "source": [
    "ps = get_rating('PS','SO%','MINS',0.7,0.3,-1)\n",
    "ps"
   ]
  },
  {
   "cell_type": "markdown",
   "metadata": {},
   "source": [
    "# Experience (EX)"
   ]
  },
  {
   "cell_type": "code",
   "execution_count": null,
   "metadata": {},
   "outputs": [],
   "source": [
    "ex_max = 85\n",
    "ex_min = 52\n",
    "ex_range = ex_max - ex_min\n",
    "\n",
    "ex_calc = file_clean.loc[:,['Goalie','nation','dob','link']]\n",
    "ex_calc['Year'] = ex_calc['dob'].str[:4]\n",
    "ex_calc['Month'] = ex_calc['dob'].str[5:7]\n",
    "ex_calc['Day'] = ex_calc['dob'].str[8:]\n",
    "ex_calc['Age'] = 2021 - ex_calc['Year'].astype(int)\n",
    "\n",
    "ex_calc['ex_zscore'] = zscore(ex_calc['Age'])\n",
    "z_ex_max = ex_calc['ex_zscore'].max()\n",
    "z_ex_min = ex_calc['ex_zscore'].min()\n",
    "z_ex_range = z_ex_max-z_ex_min\n",
    "z_ex_incr = z_ex_range/ex_range\n",
    "\n",
    "ex_calc['EX'] = ex_max-((z_ex_max-ex_calc['ex_zscore'])/z_ex_incr)\n",
    "ex = ex_calc.loc[:,['Goalie','nation','Year','Month','Day','link','EX']]\n",
    "\n",
    "ex.sort_values(by='EX',ascending=False,inplace=True)\n",
    "\n",
    "ex"
   ]
  },
  {
   "cell_type": "markdown",
   "metadata": {},
   "source": [
    "# Leadership (LD)"
   ]
  },
  {
   "cell_type": "code",
   "execution_count": null,
   "metadata": {},
   "outputs": [],
   "source": [
    "ld_max = 70\n",
    "ld_min = 50\n",
    "ld_range = ld_max - ld_min\n",
    "\n",
    "ld_calc = file_clean.loc[:,['Goalie','dob']]\n",
    "ld_calc['Year'] = ld_calc['dob'].str[:4]\n",
    "ld_calc['Age'] = 2021 - ld_calc['Year'].astype(int)\n",
    "\n",
    "ld_calc['ld_zscore'] = zscore(ld_calc['Age'])\n",
    "z_ld_max = ld_calc['ld_zscore'].max()\n",
    "z_ld_min = ld_calc['ld_zscore'].min()\n",
    "z_ld_range = z_ld_max-z_ld_min\n",
    "z_ld_incr = z_ld_range/ld_range\n",
    "\n",
    "ld_calc['LD'] = ld_max-((z_ld_max-ld_calc['ld_zscore'])/z_ld_incr)\n",
    "ld = ld_calc.loc[:,['Goalie','LD']]\n",
    "\n",
    "ld.sort_values(by='LD',ascending=False,inplace=True)\n",
    "\n",
    "ld"
   ]
  },
  {
   "cell_type": "markdown",
   "metadata": {},
   "source": [
    "# Overall (OV)"
   ]
  },
  {
   "cell_type": "code",
   "execution_count": null,
   "metadata": {},
   "outputs": [],
   "source": [
    "df_ov = sk.merge(du, how='left',on='Goalie').merge(en, how='left',on='Goalie').merge(sz, how='left',on='Goalie').merge(ag, how='left',on='Goalie').merge(rb, how='left',on='Goalie').merge(hs, how='left',on='Goalie').merge(sc, how='left',on='Goalie').merge(rt, how='left',on='Goalie').merge(ph, how='left',on='Goalie').merge(ps, how='left',on='Goalie').merge(ex, how='left',on='Goalie').merge(ld, how='left',on='Goalie')\n",
    "df_ov['Rookie'] = 'N'\n",
    "df_ov['PO'] = 1\n",
    "df_ov['Contract'] = 1\n",
    "df_ov['Salary'] = 1\n",
    "df_ov['Position'] = 'G'\n",
    "\n",
    "df_ov = df_ov[['Goalie','Position','nation','Rookie','Year','Month','Day','Contract','Salary','link','weight','height','SK','DU','EN','SZ','AG','RB','SC','HS','RT','PH','PS','EX','LD','PO']]\n",
    "\n",
    "df_ov['OV'] = (df_ov['SK'] * 0.08) + (df_ov['DU'] * 0.06) + (df_ov['EN'] * 0.09) + (df_ov['SZ'] * 0.08) + (df_ov['AG'] * 0.08) + (df_ov['RB'] * 0.10) + (df_ov['SC'] * 0.13) + (df_ov['HS'] * 0.12) + (df_ov['RT'] * 0.12) + (df_ov['PH'] * 0.04) + (df_ov['PS'] * 0.02) + (df_ov['EX'] * 0.04) + (df_ov['LD'] * 0.04)\n",
    "df_ov['Goalie'] = df_ov['Goalie'].str.title()\n",
    "df_to_print = df_ov.sort_values(by=['OV'],ascending=False)\n",
    "df_to_print.to_csv('2021-2022_AHL_goalies.csv',index=False)\n",
    "df_to_print"
   ]
  }
 ],
 "metadata": {
  "kernelspec": {
   "display_name": "Python 3",
   "language": "python",
   "name": "python3"
  },
  "language_info": {
   "codemirror_mode": {
    "name": "ipython",
    "version": 3
   },
   "file_extension": ".py",
   "mimetype": "text/x-python",
   "name": "python",
   "nbconvert_exporter": "python",
   "pygments_lexer": "ipython3",
   "version": "3.8.3"
  }
 },
 "nbformat": 4,
 "nbformat_minor": 4
}
